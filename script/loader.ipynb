{
 "cells": [
  {
   "cell_type": "code",
   "execution_count": 1,
   "metadata": {},
   "outputs": [
    {
     "name": "stdout",
     "output_type": "stream",
     "text": [
      "Collecting nasdaq-data-link\n",
      "  Downloading Nasdaq_Data_Link-1.0.4-py2.py3-none-any.whl (28 kB)\n",
      "Requirement already satisfied: pandas>=0.14 in c:\\users\\leehy\\anaconda3\\envs\\py310\\lib\\site-packages (from nasdaq-data-link) (2.1.3)\n",
      "Requirement already satisfied: numpy>=1.8 in c:\\users\\leehy\\anaconda3\\envs\\py310\\lib\\site-packages (from nasdaq-data-link) (1.26.0)\n",
      "Requirement already satisfied: requests>=2.7.0 in c:\\users\\leehy\\anaconda3\\envs\\py310\\lib\\site-packages (from nasdaq-data-link) (2.31.0)\n",
      "Collecting inflection>=0.3.1 (from nasdaq-data-link)\n",
      "  Downloading inflection-0.5.1-py2.py3-none-any.whl (9.5 kB)\n",
      "Requirement already satisfied: python-dateutil in c:\\users\\leehy\\anaconda3\\envs\\py310\\lib\\site-packages (from nasdaq-data-link) (2.8.2)\n",
      "Requirement already satisfied: six in c:\\users\\leehy\\anaconda3\\envs\\py310\\lib\\site-packages (from nasdaq-data-link) (1.16.0)\n",
      "Collecting more-itertools (from nasdaq-data-link)\n",
      "  Downloading more_itertools-10.2.0-py3-none-any.whl.metadata (34 kB)\n",
      "Requirement already satisfied: pytz>=2020.1 in c:\\users\\leehy\\anaconda3\\envs\\py310\\lib\\site-packages (from pandas>=0.14->nasdaq-data-link) (2023.3.post1)\n",
      "Requirement already satisfied: tzdata>=2022.1 in c:\\users\\leehy\\anaconda3\\envs\\py310\\lib\\site-packages (from pandas>=0.14->nasdaq-data-link) (2023.3)\n",
      "Requirement already satisfied: charset-normalizer<4,>=2 in c:\\users\\leehy\\anaconda3\\envs\\py310\\lib\\site-packages (from requests>=2.7.0->nasdaq-data-link) (3.3.2)\n",
      "Requirement already satisfied: idna<4,>=2.5 in c:\\users\\leehy\\anaconda3\\envs\\py310\\lib\\site-packages (from requests>=2.7.0->nasdaq-data-link) (3.4)\n",
      "Requirement already satisfied: urllib3<3,>=1.21.1 in c:\\users\\leehy\\anaconda3\\envs\\py310\\lib\\site-packages (from requests>=2.7.0->nasdaq-data-link) (2.0.7)\n",
      "Requirement already satisfied: certifi>=2017.4.17 in c:\\users\\leehy\\anaconda3\\envs\\py310\\lib\\site-packages (from requests>=2.7.0->nasdaq-data-link) (2023.7.22)\n",
      "Downloading more_itertools-10.2.0-py3-none-any.whl (57 kB)\n",
      "   ---------------------------------------- 0.0/57.0 kB ? eta -:--:--\n",
      "   ---------------------------------------- 57.0/57.0 kB 995.2 kB/s eta 0:00:00\n",
      "Installing collected packages: more-itertools, inflection, nasdaq-data-link\n",
      "Successfully installed inflection-0.5.1 more-itertools-10.2.0 nasdaq-data-link-1.0.4\n"
     ]
    }
   ],
   "source": [
    "# !pip install nasdaq-data-link\n",
    "# import nasdaqdatalink"
   ]
  },
  {
   "cell_type": "code",
   "execution_count": 2,
   "metadata": {},
   "outputs": [],
   "source": [
    "import nasdaqdatalink"
   ]
  },
  {
   "cell_type": "code",
   "execution_count": null,
   "metadata": {},
   "outputs": [],
   "source": [
    "# import data from https://data.nasdaq.com/databases/ZILLOW\n",
    "# warning: it has data size over 1.5 GB"
   ]
  },
  {
   "cell_type": "code",
   "execution_count": 16,
   "metadata": {},
   "outputs": [],
   "source": [
    "import os\n",
    "import pandas as pd\n",
    "import numpy as np\n",
    "\n",
    "cur_dir = %pwd\n",
    "pkg_dir = os.path.dirname(cur_dir)\n",
    "data_dir = os.path.join(pkg_dir, 'data')\n",
    "\n",
    "var_df = pd.read_excel(os.path.join(data_dir, 'indicator.xlsx'))\n",
    "region_df = pd.read_excel(os.path.join(data_dir, 'region.xlsx'))\n",
    "zillow_df = pd.read_parquet(os.path.join(data_dir, 'zillow_data.parquet'))"
   ]
  },
  {
   "cell_type": "code",
   "execution_count": 9,
   "metadata": {},
   "outputs": [],
   "source": [
    "# data = pd.read_csv(os.path.join(data_dir, 'zillow_data.csv'))\n",
    "# data.to_parquet(os.path.join(data_dir, 'zillow_data.parquet'))"
   ]
  },
  {
   "cell_type": "code",
   "execution_count": 19,
   "metadata": {},
   "outputs": [
    {
     "data": {
      "text/html": [
       "<div>\n",
       "<style scoped>\n",
       "    .dataframe tbody tr th:only-of-type {\n",
       "        vertical-align: middle;\n",
       "    }\n",
       "\n",
       "    .dataframe tbody tr th {\n",
       "        vertical-align: top;\n",
       "    }\n",
       "\n",
       "    .dataframe thead th {\n",
       "        text-align: right;\n",
       "    }\n",
       "</style>\n",
       "<table border=\"1\" class=\"dataframe\">\n",
       "  <thead>\n",
       "    <tr style=\"text-align: right;\">\n",
       "      <th></th>\n",
       "      <th>indicator_id</th>\n",
       "      <th>indicator</th>\n",
       "      <th>category</th>\n",
       "    </tr>\n",
       "  </thead>\n",
       "  <tbody>\n",
       "    <tr>\n",
       "      <th>0</th>\n",
       "      <td>ZATT</td>\n",
       "      <td>ZHVI All Homes- Top Tier Time Series ($)</td>\n",
       "      <td>Home values</td>\n",
       "    </tr>\n",
       "    <tr>\n",
       "      <th>1</th>\n",
       "      <td>ZSFH</td>\n",
       "      <td>ZHVI Single-Family Homes Time Series ($)</td>\n",
       "      <td>Home values</td>\n",
       "    </tr>\n",
       "  </tbody>\n",
       "</table>\n",
       "</div>"
      ],
      "text/plain": [
       "  indicator_id                                 indicator     category\n",
       "0         ZATT  ZHVI All Homes- Top Tier Time Series ($)  Home values\n",
       "1         ZSFH  ZHVI Single-Family Homes Time Series ($)  Home values"
      ]
     },
     "execution_count": 19,
     "metadata": {},
     "output_type": "execute_result"
    }
   ],
   "source": [
    "var_df.head(2)"
   ]
  },
  {
   "cell_type": "code",
   "execution_count": 22,
   "metadata": {},
   "outputs": [
    {
     "data": {
      "text/html": [
       "<div>\n",
       "<style scoped>\n",
       "    .dataframe tbody tr th:only-of-type {\n",
       "        vertical-align: middle;\n",
       "    }\n",
       "\n",
       "    .dataframe tbody tr th {\n",
       "        vertical-align: top;\n",
       "    }\n",
       "\n",
       "    .dataframe thead th {\n",
       "        text-align: right;\n",
       "    }\n",
       "</style>\n",
       "<table border=\"1\" class=\"dataframe\">\n",
       "  <thead>\n",
       "    <tr style=\"text-align: right;\">\n",
       "      <th></th>\n",
       "      <th>region_id</th>\n",
       "      <th>region_type</th>\n",
       "      <th>region</th>\n",
       "    </tr>\n",
       "  </thead>\n",
       "  <tbody>\n",
       "    <tr>\n",
       "      <th>0</th>\n",
       "      <td>394401</td>\n",
       "      <td>metro</td>\n",
       "      <td>Boone, IA; IA</td>\n",
       "    </tr>\n",
       "    <tr>\n",
       "      <th>1</th>\n",
       "      <td>274772</td>\n",
       "      <td>neigh</td>\n",
       "      <td>Northeast Dallas; TX; Dallas-Fort Worth-Arling...</td>\n",
       "    </tr>\n",
       "  </tbody>\n",
       "</table>\n",
       "</div>"
      ],
      "text/plain": [
       "   region_id region_type                                             region\n",
       "0     394401       metro                                      Boone, IA; IA\n",
       "1     274772       neigh  Northeast Dallas; TX; Dallas-Fort Worth-Arling..."
      ]
     },
     "execution_count": 22,
     "metadata": {},
     "output_type": "execute_result"
    }
   ],
   "source": [
    "region_df.head(2) #metro seems to be the cleanest"
   ]
  },
  {
   "cell_type": "code",
   "execution_count": 21,
   "metadata": {},
   "outputs": [
    {
     "data": {
      "text/html": [
       "<div>\n",
       "<style scoped>\n",
       "    .dataframe tbody tr th:only-of-type {\n",
       "        vertical-align: middle;\n",
       "    }\n",
       "\n",
       "    .dataframe tbody tr th {\n",
       "        vertical-align: top;\n",
       "    }\n",
       "\n",
       "    .dataframe thead th {\n",
       "        text-align: right;\n",
       "    }\n",
       "</style>\n",
       "<table border=\"1\" class=\"dataframe\">\n",
       "  <thead>\n",
       "    <tr style=\"text-align: right;\">\n",
       "      <th></th>\n",
       "      <th>indicator_id</th>\n",
       "      <th>region_id</th>\n",
       "      <th>date</th>\n",
       "      <th>value</th>\n",
       "    </tr>\n",
       "  </thead>\n",
       "  <tbody>\n",
       "    <tr>\n",
       "      <th>0</th>\n",
       "      <td>ZATT</td>\n",
       "      <td>3101</td>\n",
       "      <td>1998-01-31</td>\n",
       "      <td>338849.0</td>\n",
       "    </tr>\n",
       "    <tr>\n",
       "      <th>1</th>\n",
       "      <td>ZATT</td>\n",
       "      <td>3101</td>\n",
       "      <td>1998-02-28</td>\n",
       "      <td>342993.0</td>\n",
       "    </tr>\n",
       "  </tbody>\n",
       "</table>\n",
       "</div>"
      ],
      "text/plain": [
       "  indicator_id  region_id        date     value\n",
       "0         ZATT       3101  1998-01-31  338849.0\n",
       "1         ZATT       3101  1998-02-28  342993.0"
      ]
     },
     "execution_count": 21,
     "metadata": {},
     "output_type": "execute_result"
    }
   ],
   "source": [
    "zillow_df.head(2)"
   ]
  },
  {
   "cell_type": "markdown",
   "metadata": {},
   "source": [
    "# Test"
   ]
  },
  {
   "cell_type": "code",
   "execution_count": 23,
   "metadata": {},
   "outputs": [
    {
     "data": {
      "text/plain": [
       "array(['metro', 'neigh', 'city', 'zip', 'state', 'county'], dtype=object)"
      ]
     },
     "execution_count": 23,
     "metadata": {},
     "output_type": "execute_result"
    }
   ],
   "source": [
    "region_df['region_type'].unique()"
   ]
  },
  {
   "cell_type": "code",
   "execution_count": 26,
   "metadata": {},
   "outputs": [
    {
     "data": {
      "text/html": [
       "<div>\n",
       "<style scoped>\n",
       "    .dataframe tbody tr th:only-of-type {\n",
       "        vertical-align: middle;\n",
       "    }\n",
       "\n",
       "    .dataframe tbody tr th {\n",
       "        vertical-align: top;\n",
       "    }\n",
       "\n",
       "    .dataframe thead th {\n",
       "        text-align: right;\n",
       "    }\n",
       "</style>\n",
       "<table border=\"1\" class=\"dataframe\">\n",
       "  <thead>\n",
       "    <tr style=\"text-align: right;\">\n",
       "      <th></th>\n",
       "      <th>region_id</th>\n",
       "      <th>region_type</th>\n",
       "      <th>region</th>\n",
       "    </tr>\n",
       "  </thead>\n",
       "  <tbody>\n",
       "    <tr>\n",
       "      <th>1158</th>\n",
       "      <td>3</td>\n",
       "      <td>state</td>\n",
       "      <td>Alaska</td>\n",
       "    </tr>\n",
       "  </tbody>\n",
       "</table>\n",
       "</div>"
      ],
      "text/plain": [
       "      region_id region_type  region\n",
       "1158          3       state  Alaska"
      ]
     },
     "execution_count": 26,
     "metadata": {},
     "output_type": "execute_result"
    }
   ],
   "source": [
    "region_df.loc[region_df['region'] == 'Alaska']"
   ]
  },
  {
   "cell_type": "code",
   "execution_count": 35,
   "metadata": {},
   "outputs": [],
   "source": [
    "cnd1 = zillow_df['region_id'] == 3\n",
    "cnd2 = zillow_df['indicator_id'] == 'ZATT'\n",
    "tdf = zillow_df.loc[cnd1 & cnd2]"
   ]
  },
  {
   "cell_type": "code",
   "execution_count": 36,
   "metadata": {},
   "outputs": [
    {
     "data": {
      "text/plain": [
       "[<matplotlib.lines.Line2D at 0x19697810390>]"
      ]
     },
     "execution_count": 36,
     "metadata": {},
     "output_type": "execute_result"
    },
    {
     "data": {
      "image/png": "[encoded data removed]",
      "text/plain": [
       "<Figure size 640x480 with 1 Axes>"
      ]
     },
     "metadata": {},
     "output_type": "display_data"
    }
   ],
   "source": [
    "import matplotlib.pyplot as plt\n",
    "\n",
    "tdf = tdf.sort_values(by = 'date')\n",
    "\n",
    "plt.plot(tdf['date'], tdf['value']/1e6)"
   ]
  }
 ],
 "metadata": {
  "kernelspec": {
   "display_name": "base",
   "language": "python",
   "name": "python3"
  },
  "language_info": {
   "codemirror_mode": {
    "name": "ipython",
    "version": 3
   },
   "file_extension": ".py",
   "mimetype": "text/x-python",
   "name": "python",
   "nbconvert_exporter": "python",
   "pygments_lexer": "ipython3",
   "version": "3.11.6"
  }
 },
 "nbformat": 4,
 "nbformat_minor": 2
}
